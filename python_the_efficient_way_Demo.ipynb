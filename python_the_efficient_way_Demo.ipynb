{
  "nbformat": 4,
  "nbformat_minor": 0,
  "metadata": {
    "colab": {
      "name": "python_the_efficient_way_Demo.ipynb",
      "version": "0.3.2",
      "provenance": []
    },
    "kernelspec": {
      "name": "python3",
      "display_name": "Python 3"
    }
  },
  "cells": [
    {
      "cell_type": "markdown",
      "metadata": {
        "id": "zWOso7o8sn__",
        "colab_type": "text"
      },
      "source": [
        "# *Python, the efficient way*\n",
        "\n",
        "Demo code to show off different ways of tackling a programming situation with an efficient, yet understandable Python usage."
      ]
    },
    {
      "cell_type": "markdown",
      "metadata": {
        "id": "0JvF7lDhxT3B",
        "colab_type": "text"
      },
      "source": [
        "## Goal\n",
        "\n",
        "Convert an array of integers into a string with their ASCII notation, optimizing **time** (and memory, if possible)."
      ]
    },
    {
      "cell_type": "code",
      "metadata": {
        "id": "GOUEUQaaycpp",
        "colab_type": "code",
        "colab": {}
      },
      "source": [
        "# Import required libraries\n",
        "\n",
        "import timeit\n",
        "import array\n",
        "\n",
        "import numpy as np\n",
        "import pandas as pd\n",
        "\n",
        "from functools import reduce\n",
        "from operator import itemgetter"
      ],
      "execution_count": 0,
      "outputs": []
    },
    {
      "cell_type": "code",
      "metadata": {
        "id": "4GZ3LbsWyN1R",
        "colab_type": "code",
        "colab": {
          "base_uri": "https://localhost:8080/",
          "height": 34
        },
        "outputId": "c80c4eef-025c-4d69-b33a-65ea72838292"
      },
      "source": [
        "# Generate random vector of numbers\n",
        "\n",
        "numbers = np.random.randint(low=0, high=255, size=20000)\n",
        "print(numbers[0:10])"
      ],
      "execution_count": 2,
      "outputs": [
        {
          "output_type": "stream",
          "text": [
            "[221 251  86 121 129 191 254 223  23 136]\n"
          ],
          "name": "stdout"
        }
      ]
    },
    {
      "cell_type": "code",
      "metadata": {
        "id": "vwIQSvd-CzX_",
        "colab_type": "code",
        "colab": {}
      },
      "source": [
        "# Created function to display timing overview of approaches\n",
        "\n",
        "results = dict()\n",
        "\n",
        "def show_timing(function, params, n_iterations=100):\n",
        "  \n",
        "  f_name = function.__name__\n",
        "  p_name = [name for name in globals() if globals()[name] is params][0]\n",
        "  \n",
        "  t = timeit.timeit('{}({})'.format(f_name, p_name), \n",
        "                    number=n_iterations, globals=globals())\n",
        "  \n",
        "  results[f_name] = t/n_iterations\n",
        "  \n",
        "  print(\"\"\"-------------------Execution overview-------------------\n",
        "  \n",
        "Function to assess:              {}({})\n",
        "Time elapsed (per execution):    {} s\n",
        "Number of executions:            {} iterations\n",
        "--------------------------------------------------------\n",
        "\"\"\".format(f_name, p_name, t/n_iterations, n_iterations))\n",
        "  \n",
        "  return"
      ],
      "execution_count": 0,
      "outputs": []
    },
    {
      "cell_type": "code",
      "metadata": {
        "id": "D4gwPGNjQQT2",
        "colab_type": "code",
        "colab": {}
      },
      "source": [
        "# Function to display sorted results\n",
        "\n",
        "pd.set_option(\"display.precision\", 15)\n",
        "\n",
        "def sort_results(res=results):\n",
        "  \n",
        "  return pd.DataFrame(results, index=['Time Elapsed (s)']).T.sort_values(by=['Time Elapsed (s)'])"
      ],
      "execution_count": 0,
      "outputs": []
    },
    {
      "cell_type": "markdown",
      "metadata": {
        "id": "98SJ3M8uxsWF",
        "colab_type": "text"
      },
      "source": [
        "### Approach 1"
      ]
    },
    {
      "cell_type": "code",
      "metadata": {
        "id": "fmj2tPLHrngn",
        "colab_type": "code",
        "colab": {}
      },
      "source": [
        "# Define function for approach 1\n",
        "\n",
        "def approach_1(nums):\n",
        "  \n",
        "    text = \"\"\n",
        "    \n",
        "    for num in nums:\n",
        "      \n",
        "        text += chr(num)\n",
        "        \n",
        "    return text"
      ],
      "execution_count": 0,
      "outputs": []
    },
    {
      "cell_type": "code",
      "metadata": {
        "id": "wswq1kGeAVdP",
        "colab_type": "code",
        "colab": {
          "base_uri": "https://localhost:8080/",
          "height": 136
        },
        "outputId": "22149d7a-4334-4d00-ca37-a560ee347455"
      },
      "source": [
        "show_timing(approach_1, numbers)"
      ],
      "execution_count": 6,
      "outputs": [
        {
          "output_type": "stream",
          "text": [
            "-------------------Execution overview-------------------\n",
            "  \n",
            "Function to assess:              approach_1(numbers)\n",
            "Time elapsed (per execution):    0.004001449249999496 s\n",
            "Number of executions:            100 iterations\n",
            "--------------------------------------------------------\n",
            "\n"
          ],
          "name": "stdout"
        }
      ]
    },
    {
      "cell_type": "markdown",
      "metadata": {
        "id": "xjsX43dZRBFe",
        "colab_type": "text"
      },
      "source": [
        "- Very straightforward, intuitive solution.\n",
        "- Can it be improved or simplified?"
      ]
    },
    {
      "cell_type": "markdown",
      "metadata": {
        "id": "ppUSPVMtJJo9",
        "colab_type": "text"
      },
      "source": [
        "### Approach 2"
      ]
    },
    {
      "cell_type": "code",
      "metadata": {
        "id": "8zD5Ch7-JMhL",
        "colab_type": "code",
        "colab": {}
      },
      "source": [
        "# Define function for approach 2\n",
        "\n",
        "def approach_2(nums):\n",
        "  \n",
        "  return reduce(lambda text, num: text + chr(num), nums, \"\")"
      ],
      "execution_count": 0,
      "outputs": []
    },
    {
      "cell_type": "code",
      "metadata": {
        "id": "XqdHpiihLLg7",
        "colab_type": "code",
        "colab": {
          "base_uri": "https://localhost:8080/",
          "height": 136
        },
        "outputId": "9cf84a69-e984-42de-b44b-70fe8e3edcae"
      },
      "source": [
        "show_timing(approach_2, numbers)"
      ],
      "execution_count": 8,
      "outputs": [
        {
          "output_type": "stream",
          "text": [
            "-------------------Execution overview-------------------\n",
            "  \n",
            "Function to assess:              approach_2(numbers)\n",
            "Time elapsed (per execution):    0.012603200680000554 s\n",
            "Number of executions:            100 iterations\n",
            "--------------------------------------------------------\n",
            "\n"
          ],
          "name": "stdout"
        }
      ]
    },
    {
      "cell_type": "code",
      "metadata": {
        "id": "YHnyC1IBRO_4",
        "colab_type": "code",
        "colab": {
          "base_uri": "https://localhost:8080/",
          "height": 111
        },
        "outputId": "c79040d8-322f-4e6c-b93c-cbe0265a649a"
      },
      "source": [
        "sort_results()"
      ],
      "execution_count": 9,
      "outputs": [
        {
          "output_type": "execute_result",
          "data": {
            "text/html": [
              "<div>\n",
              "<style scoped>\n",
              "    .dataframe tbody tr th:only-of-type {\n",
              "        vertical-align: middle;\n",
              "    }\n",
              "\n",
              "    .dataframe tbody tr th {\n",
              "        vertical-align: top;\n",
              "    }\n",
              "\n",
              "    .dataframe thead th {\n",
              "        text-align: right;\n",
              "    }\n",
              "</style>\n",
              "<table border=\"1\" class=\"dataframe\">\n",
              "  <thead>\n",
              "    <tr style=\"text-align: right;\">\n",
              "      <th></th>\n",
              "      <th>Time Elapsed (s)</th>\n",
              "    </tr>\n",
              "  </thead>\n",
              "  <tbody>\n",
              "    <tr>\n",
              "      <th>approach_1</th>\n",
              "      <td>0.004001449249999</td>\n",
              "    </tr>\n",
              "    <tr>\n",
              "      <th>approach_2</th>\n",
              "      <td>0.012603200680001</td>\n",
              "    </tr>\n",
              "  </tbody>\n",
              "</table>\n",
              "</div>"
            ],
            "text/plain": [
              "             Time Elapsed (s)\n",
              "approach_1  0.004001449249999\n",
              "approach_2  0.012603200680001"
            ]
          },
          "metadata": {
            "tags": []
          },
          "execution_count": 9
        }
      ]
    },
    {
      "cell_type": "markdown",
      "metadata": {
        "id": "3T4TXFpYSnWD",
        "colab_type": "text"
      },
      "source": [
        "- *One-liner*: more readable.\n",
        "- Not as intuitive as **approach_1**.\n",
        "- Gets rid of the *For* loop, in favor of the *reduce()* implicit loop.\n",
        "- Lambda function call overhead."
      ]
    },
    {
      "cell_type": "markdown",
      "metadata": {
        "id": "revdJ0a7L9Ia",
        "colab_type": "text"
      },
      "source": [
        "### Approach 3"
      ]
    },
    {
      "cell_type": "code",
      "metadata": {
        "id": "vgF-y3tJL-c_",
        "colab_type": "code",
        "colab": {}
      },
      "source": [
        "# Define function for approach 3\n",
        "\n",
        "def approach_3(nums):\n",
        "  \n",
        "  text = \"\"\n",
        "  \n",
        "  for char in map(chr, nums):\n",
        "    \n",
        "      text = text + char\n",
        "      \n",
        "  return text"
      ],
      "execution_count": 0,
      "outputs": []
    },
    {
      "cell_type": "code",
      "metadata": {
        "id": "uo9xK5ZYMv8l",
        "colab_type": "code",
        "colab": {
          "base_uri": "https://localhost:8080/",
          "height": 136
        },
        "outputId": "849d5ae3-d915-49e6-cd83-6e482e14e2af"
      },
      "source": [
        "show_timing(approach_3, numbers)"
      ],
      "execution_count": 11,
      "outputs": [
        {
          "output_type": "stream",
          "text": [
            "-------------------Execution overview-------------------\n",
            "  \n",
            "Function to assess:              approach_3(numbers)\n",
            "Time elapsed (per execution):    0.00460031729000093 s\n",
            "Number of executions:            100 iterations\n",
            "--------------------------------------------------------\n",
            "\n"
          ],
          "name": "stdout"
        }
      ]
    },
    {
      "cell_type": "code",
      "metadata": {
        "id": "3xFoQH0YRh6B",
        "colab_type": "code",
        "colab": {
          "base_uri": "https://localhost:8080/",
          "height": 142
        },
        "outputId": "702c8cef-e97a-462c-f3c6-69486ee27fb7"
      },
      "source": [
        "sort_results()"
      ],
      "execution_count": 12,
      "outputs": [
        {
          "output_type": "execute_result",
          "data": {
            "text/html": [
              "<div>\n",
              "<style scoped>\n",
              "    .dataframe tbody tr th:only-of-type {\n",
              "        vertical-align: middle;\n",
              "    }\n",
              "\n",
              "    .dataframe tbody tr th {\n",
              "        vertical-align: top;\n",
              "    }\n",
              "\n",
              "    .dataframe thead th {\n",
              "        text-align: right;\n",
              "    }\n",
              "</style>\n",
              "<table border=\"1\" class=\"dataframe\">\n",
              "  <thead>\n",
              "    <tr style=\"text-align: right;\">\n",
              "      <th></th>\n",
              "      <th>Time Elapsed (s)</th>\n",
              "    </tr>\n",
              "  </thead>\n",
              "  <tbody>\n",
              "    <tr>\n",
              "      <th>approach_1</th>\n",
              "      <td>0.004001449249999</td>\n",
              "    </tr>\n",
              "    <tr>\n",
              "      <th>approach_3</th>\n",
              "      <td>0.004600317290001</td>\n",
              "    </tr>\n",
              "    <tr>\n",
              "      <th>approach_2</th>\n",
              "      <td>0.012603200680001</td>\n",
              "    </tr>\n",
              "  </tbody>\n",
              "</table>\n",
              "</div>"
            ],
            "text/plain": [
              "             Time Elapsed (s)\n",
              "approach_1  0.004001449249999\n",
              "approach_3  0.004600317290001\n",
              "approach_2  0.012603200680001"
            ]
          },
          "metadata": {
            "tags": []
          },
          "execution_count": 12
        }
      ]
    },
    {
      "cell_type": "markdown",
      "metadata": {
        "id": "8gdXEmPMUTwE",
        "colab_type": "text"
      },
      "source": [
        "- Uses more storage, since *map(chr, list)* returns another list of the same length.\n",
        "- Uses 2 loops! So, why is it that fast?\n",
        "- Unlike **approach_1**, *chr()* is only looked once, within *map()* (function call overhead).\n",
        "- This look up is first made in the global scope, and then in the built-in scope.\n",
        "- *map()* calls procedures directly in C language."
      ]
    },
    {
      "cell_type": "markdown",
      "metadata": {
        "id": "77x2PA_nRory",
        "colab_type": "text"
      },
      "source": [
        "### Approach 4"
      ]
    },
    {
      "cell_type": "code",
      "metadata": {
        "id": "M3hvmJwdMyWL",
        "colab_type": "code",
        "colab": {}
      },
      "source": [
        "# Define function for approach 4\n",
        "\n",
        "def approach_4(nums):\n",
        "  \n",
        "  text = \"\"\n",
        "  \n",
        "  local_chr = chr\n",
        "  \n",
        "  for num in nums:\n",
        "    \n",
        "      text = text + local_chr(num)\n",
        "      \n",
        "  return text"
      ],
      "execution_count": 0,
      "outputs": []
    },
    {
      "cell_type": "code",
      "metadata": {
        "id": "69XVfTVRQJ9N",
        "colab_type": "code",
        "colab": {
          "base_uri": "https://localhost:8080/",
          "height": 136
        },
        "outputId": "87980ada-6e11-4536-b50a-4f0386cae7ec"
      },
      "source": [
        "show_timing(approach_4, numbers)"
      ],
      "execution_count": 14,
      "outputs": [
        {
          "output_type": "stream",
          "text": [
            "-------------------Execution overview-------------------\n",
            "  \n",
            "Function to assess:              approach_4(numbers)\n",
            "Time elapsed (per execution):    0.004801699140000437 s\n",
            "Number of executions:            100 iterations\n",
            "--------------------------------------------------------\n",
            "\n"
          ],
          "name": "stdout"
        }
      ]
    },
    {
      "cell_type": "code",
      "metadata": {
        "id": "eWyYaG-IRwIN",
        "colab_type": "code",
        "colab": {
          "base_uri": "https://localhost:8080/",
          "height": 173
        },
        "outputId": "a619e926-ed6f-4fdb-9e8b-45fa1815ba79"
      },
      "source": [
        "sort_results()"
      ],
      "execution_count": 15,
      "outputs": [
        {
          "output_type": "execute_result",
          "data": {
            "text/html": [
              "<div>\n",
              "<style scoped>\n",
              "    .dataframe tbody tr th:only-of-type {\n",
              "        vertical-align: middle;\n",
              "    }\n",
              "\n",
              "    .dataframe tbody tr th {\n",
              "        vertical-align: top;\n",
              "    }\n",
              "\n",
              "    .dataframe thead th {\n",
              "        text-align: right;\n",
              "    }\n",
              "</style>\n",
              "<table border=\"1\" class=\"dataframe\">\n",
              "  <thead>\n",
              "    <tr style=\"text-align: right;\">\n",
              "      <th></th>\n",
              "      <th>Time Elapsed (s)</th>\n",
              "    </tr>\n",
              "  </thead>\n",
              "  <tbody>\n",
              "    <tr>\n",
              "      <th>approach_1</th>\n",
              "      <td>0.004001449249999</td>\n",
              "    </tr>\n",
              "    <tr>\n",
              "      <th>approach_3</th>\n",
              "      <td>0.004600317290001</td>\n",
              "    </tr>\n",
              "    <tr>\n",
              "      <th>approach_4</th>\n",
              "      <td>0.004801699140000</td>\n",
              "    </tr>\n",
              "    <tr>\n",
              "      <th>approach_2</th>\n",
              "      <td>0.012603200680001</td>\n",
              "    </tr>\n",
              "  </tbody>\n",
              "</table>\n",
              "</div>"
            ],
            "text/plain": [
              "             Time Elapsed (s)\n",
              "approach_1  0.004001449249999\n",
              "approach_3  0.004600317290001\n",
              "approach_4  0.004801699140000\n",
              "approach_2  0.012603200680001"
            ]
          },
          "metadata": {
            "tags": []
          },
          "execution_count": 15
        }
      ]
    },
    {
      "cell_type": "markdown",
      "metadata": {
        "id": "47WWaWtwWLMG",
        "colab_type": "text"
      },
      "source": [
        "- Similar to **approach_1**, but defines *chr()* in a local context to speed up the search over scopes.\n",
        "- Still gets fast performance: function call overhead (aforementioned) was most likely speeding the execution down."
      ]
    },
    {
      "cell_type": "markdown",
      "metadata": {
        "id": "5nMGjyodSrDr",
        "colab_type": "text"
      },
      "source": [
        "### Approach 5"
      ]
    },
    {
      "cell_type": "code",
      "metadata": {
        "id": "iq6GEqfjStG6",
        "colab_type": "code",
        "colab": {}
      },
      "source": [
        "# Define function for approach 5\n",
        "\n",
        "def approach_5(nums):\n",
        "  \n",
        "  return \"\".join(map(chr, nums))"
      ],
      "execution_count": 0,
      "outputs": []
    },
    {
      "cell_type": "code",
      "metadata": {
        "id": "J7dqKdgHTQm1",
        "colab_type": "code",
        "colab": {
          "base_uri": "https://localhost:8080/",
          "height": 136
        },
        "outputId": "d2b17caa-f54b-45dd-dbc4-4e05d7a77a2e"
      },
      "source": [
        "show_timing(approach_5, numbers)"
      ],
      "execution_count": 17,
      "outputs": [
        {
          "output_type": "stream",
          "text": [
            "-------------------Execution overview-------------------\n",
            "  \n",
            "Function to assess:              approach_5(numbers)\n",
            "Time elapsed (per execution):    0.003608551559998432 s\n",
            "Number of executions:            100 iterations\n",
            "--------------------------------------------------------\n",
            "\n"
          ],
          "name": "stdout"
        }
      ]
    },
    {
      "cell_type": "code",
      "metadata": {
        "id": "8SrXZLQiTUFi",
        "colab_type": "code",
        "colab": {
          "base_uri": "https://localhost:8080/",
          "height": 204
        },
        "outputId": "a6cda462-ccf8-4da2-960b-969465f95f2f"
      },
      "source": [
        "sort_results()"
      ],
      "execution_count": 18,
      "outputs": [
        {
          "output_type": "execute_result",
          "data": {
            "text/html": [
              "<div>\n",
              "<style scoped>\n",
              "    .dataframe tbody tr th:only-of-type {\n",
              "        vertical-align: middle;\n",
              "    }\n",
              "\n",
              "    .dataframe tbody tr th {\n",
              "        vertical-align: top;\n",
              "    }\n",
              "\n",
              "    .dataframe thead th {\n",
              "        text-align: right;\n",
              "    }\n",
              "</style>\n",
              "<table border=\"1\" class=\"dataframe\">\n",
              "  <thead>\n",
              "    <tr style=\"text-align: right;\">\n",
              "      <th></th>\n",
              "      <th>Time Elapsed (s)</th>\n",
              "    </tr>\n",
              "  </thead>\n",
              "  <tbody>\n",
              "    <tr>\n",
              "      <th>approach_5</th>\n",
              "      <td>0.003608551559998</td>\n",
              "    </tr>\n",
              "    <tr>\n",
              "      <th>approach_1</th>\n",
              "      <td>0.004001449249999</td>\n",
              "    </tr>\n",
              "    <tr>\n",
              "      <th>approach_3</th>\n",
              "      <td>0.004600317290001</td>\n",
              "    </tr>\n",
              "    <tr>\n",
              "      <th>approach_4</th>\n",
              "      <td>0.004801699140000</td>\n",
              "    </tr>\n",
              "    <tr>\n",
              "      <th>approach_2</th>\n",
              "      <td>0.012603200680001</td>\n",
              "    </tr>\n",
              "  </tbody>\n",
              "</table>\n",
              "</div>"
            ],
            "text/plain": [
              "             Time Elapsed (s)\n",
              "approach_5  0.003608551559998\n",
              "approach_1  0.004001449249999\n",
              "approach_3  0.004600317290001\n",
              "approach_4  0.004801699140000\n",
              "approach_2  0.012603200680001"
            ]
          },
          "metadata": {
            "tags": []
          },
          "execution_count": 18
        }
      ]
    },
    {
      "cell_type": "markdown",
      "metadata": {
        "id": "NxcOj5U0YIaJ",
        "colab_type": "text"
      },
      "source": [
        "- *One-liner*: readable.\n",
        "- Only uses implicit loops.\n",
        "- Removes quadratic behaviour of the other versions."
      ]
    },
    {
      "cell_type": "markdown",
      "metadata": {
        "id": "k9mQi4YoUkbM",
        "colab_type": "text"
      },
      "source": [
        "### Approach 6"
      ]
    },
    {
      "cell_type": "code",
      "metadata": {
        "id": "ebAjqXFxUl-z",
        "colab_type": "code",
        "colab": {}
      },
      "source": [
        "# Define function for approach 6\n",
        "\n",
        "def approach_6(nums):\n",
        "  \n",
        "  return array.array('B', nums).tobytes()"
      ],
      "execution_count": 0,
      "outputs": []
    },
    {
      "cell_type": "code",
      "metadata": {
        "id": "-n0wyTxrUopy",
        "colab_type": "code",
        "colab": {
          "base_uri": "https://localhost:8080/",
          "height": 136
        },
        "outputId": "f6b1d75b-cb32-4fc9-fc0a-4ef1b3c877dc"
      },
      "source": [
        "show_timing(approach_6, numbers)"
      ],
      "execution_count": 20,
      "outputs": [
        {
          "output_type": "stream",
          "text": [
            "-------------------Execution overview-------------------\n",
            "  \n",
            "Function to assess:              approach_6(numbers)\n",
            "Time elapsed (per execution):    0.0038887566699986565 s\n",
            "Number of executions:            100 iterations\n",
            "--------------------------------------------------------\n",
            "\n"
          ],
          "name": "stdout"
        }
      ]
    },
    {
      "cell_type": "code",
      "metadata": {
        "id": "eruIE8H4VqJr",
        "colab_type": "code",
        "colab": {
          "base_uri": "https://localhost:8080/",
          "height": 235
        },
        "outputId": "4dde9eb5-2c1e-4173-b75d-816e97ac2840"
      },
      "source": [
        "sort_results()"
      ],
      "execution_count": 21,
      "outputs": [
        {
          "output_type": "execute_result",
          "data": {
            "text/html": [
              "<div>\n",
              "<style scoped>\n",
              "    .dataframe tbody tr th:only-of-type {\n",
              "        vertical-align: middle;\n",
              "    }\n",
              "\n",
              "    .dataframe tbody tr th {\n",
              "        vertical-align: top;\n",
              "    }\n",
              "\n",
              "    .dataframe thead th {\n",
              "        text-align: right;\n",
              "    }\n",
              "</style>\n",
              "<table border=\"1\" class=\"dataframe\">\n",
              "  <thead>\n",
              "    <tr style=\"text-align: right;\">\n",
              "      <th></th>\n",
              "      <th>Time Elapsed (s)</th>\n",
              "    </tr>\n",
              "  </thead>\n",
              "  <tbody>\n",
              "    <tr>\n",
              "      <th>approach_5</th>\n",
              "      <td>0.003608551559998</td>\n",
              "    </tr>\n",
              "    <tr>\n",
              "      <th>approach_6</th>\n",
              "      <td>0.003888756669999</td>\n",
              "    </tr>\n",
              "    <tr>\n",
              "      <th>approach_1</th>\n",
              "      <td>0.004001449249999</td>\n",
              "    </tr>\n",
              "    <tr>\n",
              "      <th>approach_3</th>\n",
              "      <td>0.004600317290001</td>\n",
              "    </tr>\n",
              "    <tr>\n",
              "      <th>approach_4</th>\n",
              "      <td>0.004801699140000</td>\n",
              "    </tr>\n",
              "    <tr>\n",
              "      <th>approach_2</th>\n",
              "      <td>0.012603200680001</td>\n",
              "    </tr>\n",
              "  </tbody>\n",
              "</table>\n",
              "</div>"
            ],
            "text/plain": [
              "             Time Elapsed (s)\n",
              "approach_5  0.003608551559998\n",
              "approach_6  0.003888756669999\n",
              "approach_1  0.004001449249999\n",
              "approach_3  0.004600317290001\n",
              "approach_4  0.004801699140000\n",
              "approach_2  0.012603200680001"
            ]
          },
          "metadata": {
            "tags": []
          },
          "execution_count": 21
        }
      ]
    },
    {
      "cell_type": "markdown",
      "metadata": {
        "id": "o4n5FYYrZQ3Q",
        "colab_type": "text"
      },
      "source": [
        "- Speed comparable to **approach_5**.\n",
        "- Much more memory-efficient that all the previous options."
      ]
    },
    {
      "cell_type": "code",
      "metadata": {
        "id": "EQHwjKtiYA9T",
        "colab_type": "code",
        "colab": {
          "base_uri": "https://localhost:8080/",
          "height": 346
        },
        "outputId": "10e26dd5-c899-4906-d8be-3440436606e7"
      },
      "source": [
        "df = sort_results()\n",
        "df.plot(grid=True, title='Time-efficiency Comparison', kind='bar', colormap=\"Greens_r\")"
      ],
      "execution_count": 22,
      "outputs": [
        {
          "output_type": "execute_result",
          "data": {
            "text/plain": [
              "<matplotlib.axes._subplots.AxesSubplot at 0x7f479afba7b8>"
            ]
          },
          "metadata": {
            "tags": []
          },
          "execution_count": 22
        },
        {
          "output_type": "display_data",
          "data": {
            "image/png": "[encoded data removed]",
            "text/plain": [
              "<Figure size 432x288 with 1 Axes>"
            ]
          },
          "metadata": {
            "tags": []
          }
        }
      ]
    },
    {
      "cell_type": "markdown",
      "metadata": {
        "id": "9H9ycTqeciKl",
        "colab_type": "text"
      },
      "source": [
        "## Conclusions"
      ]
    },
    {
      "cell_type": "markdown",
      "metadata": {
        "id": "6mmgzRjWcYmc",
        "colab_type": "text"
      },
      "source": [
        "- Need for speed? Use built-in functions.\n",
        "\n",
        "- **KISS**. Only optimize proven bottlenecks.\n",
        "\n",
        "- Implied loop >> explicit loop.\n",
        "\n",
        "- Avoid calling functions written in Python in an inner loop (even lambdas).\n",
        "\n",
        "- Local definitons >> global definitions.\n",
        "\n",
        "- *map*/*reduce*/*filter* only with built-in functions."
      ]
    },
    {
      "cell_type": "markdown",
      "metadata": {
        "id": "Jhs_CWDuVPIK",
        "colab_type": "text"
      },
      "source": [
        "## References"
      ]
    },
    {
      "cell_type": "markdown",
      "metadata": {
        "id": "MvUAp-NkfQBp",
        "colab_type": "text"
      },
      "source": [
        "- https://wiki.python.org/moin/PythonSpeed/PerformanceTips\n",
        "\n",
        "- https://www.python.org/doc/essays/list2str/\n",
        "\n",
        "- https://www.python-course.eu/python3_lambda.php\n",
        "\n",
        "- https://www.pythoncentral.io/measure-time-in-python-time-time-vs-time-clock/\n",
        "\n",
        "- https://realpython.com/fast-flexible-pandas/"
      ]
    },
    {
      "cell_type": "code",
      "metadata": {
        "id": "KKamw-gofQ8R",
        "colab_type": "code",
        "colab": {}
      },
      "source": [
        ""
      ],
      "execution_count": 0,
      "outputs": []
    }
  ]
}